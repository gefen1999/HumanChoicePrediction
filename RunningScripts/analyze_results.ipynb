{
 "cells": [
  {
   "cell_type": "code",
   "id": "6d796479-916b-464c-9c7b-448306d9e7e9",
   "metadata": {
    "ExecuteTime": {
     "end_time": "2024-05-29T05:26:17.010624Z",
     "start_time": "2024-05-29T05:26:17.001614Z"
    }
   },
   "source": [
    "import pandas as pd \n",
    "import wandb\n",
    "from tqdm import tqdm\n",
    "import requests\n",
    "import os\n",
    "import numpy as np\n",
    "import matplotlib.pyplot as plt\n",
    "import sklearn\n",
    "from sklearn import metrics\n",
    "import scipy.stats as stats\n",
    "import matplotlib.colors as mcolors"
   ],
   "outputs": [],
   "execution_count": 18
  },
  {
   "cell_type": "code",
   "id": "a9b533fe-a6ba-45c9-8bac-5da5e1414208",
   "metadata": {
    "ExecuteTime": {
     "end_time": "2024-05-29T05:26:17.381508Z",
     "start_time": "2024-05-29T05:26:17.373320Z"
    }
   },
   "source": [
    "from read_wandb import wandb_results\n",
    "api = wandb_results(project_id=f\"nlp_project\", wandb_username=\"gefen_and_tomer\")\n",
    "\n",
    "BASE_METRIC = \"accuracy_per_mean_user_and_bot\"\n"
   ],
   "outputs": [],
   "execution_count": 19
  },
  {
   "cell_type": "code",
   "source": [
    "def result_metric(sweeps, group_name, drop_list=[0], drop_HPT=False, metric=BASE_METRIC, epoch=\"best\"):\n",
    "    df = api.get_sweeps_results(sweeps, metric=metric)\n",
    "\n",
    "    config_cols = [c for c in df.columns if\n",
    "                   \"config_\" in c and c != \"config_wandb_run_id\" and c != \"config_online_simulation_size\"]\n",
    "    HPT_cols = [col for col in config_cols if df[col].nunique() > 1]\n",
    "    print(HPT_cols)\n",
    "    if drop_HPT:\n",
    "        df = df.drop([c for c in HPT_cols if not c in [\"config_LLM_SIM_SIZE\", \"config_seed\"]], axis=1)\n",
    "        HPT_cols = [\"config_LLM_SIM_SIZE\", \"config_seed\"]\n",
    "\n",
    "    # dropping all non-numeric columns that are not in the HPT_cols list\n",
    "    drop_names = [c for c in df.columns if\n",
    "                  (c not in HPT_cols) and (c not in [metric, \"epoch\"]) and (df[c].dtype not in [np.number])]\n",
    "    df = df.drop(drop_names, axis=1)\n",
    "\n",
    "    if len(HPT_cols) == 1:  # has only one column of config_seed\n",
    "        # add a dummy column to group by\n",
    "        df[\"dummy\"] = 'dummy'\n",
    "        HPT_cols.append(\"dummy\")\n",
    "\n",
    "    grouped = df.groupby([c for c in HPT_cols if c != \"config_seed\"], dropna=False)\n",
    "    mean_df = grouped.mean()\n",
    "    std_df = grouped.std()\n",
    "    if epoch == \"best\":\n",
    "        best_col = mean_df[\n",
    "            [c for c in mean_df.columns if (metric in c and metric[-4:] == c.split(\"_epoch\")[0][-4:])]].idxmax(axis=1)\n",
    "    else:\n",
    "        best_col = mean_df[[c for c in mean_df.columns if f\"{metric}_epoch{epoch}\" in c]].idxmax(axis=1)\n",
    "\n",
    "    result = grouped.apply(lambda x: x[best_col.loc[x.name]].values)\n",
    "    means = grouped.apply(lambda x: x[best_col.loc[x.name]].mean())\n",
    "    stds = grouped.apply(lambda x: x[best_col.loc[x.name]].std())\n",
    "\n",
    "    df_cols = {'mean': means, 'std': stds, 'values': result.values}\n",
    "    if epoch == \"best\": df_cols['epoch'] = best_col.apply(\n",
    "        lambda x: int(x.split(\"epoch\")[1]) if \"epoch\" in x else \"last\")\n",
    "\n",
    "    df_cols['CI'] = result.apply(lambda x: bootstrap_ci(x))\n",
    "\n",
    "    summary_df = pd.DataFrame(df_cols, index=best_col.index)\n",
    "    for d in drop_list:\n",
    "        if d in summary_df.index:\n",
    "            summary_df = summary_df.drop(d)\n",
    "    if len(summary_df.index.names) == 1:\n",
    "        return summary_df.rename_axis(group_name)\n",
    "    else:\n",
    "        return summary_df\n",
    "\n",
    "\n",
    "def bootstrap_ci(data, n_bootstrap=1000, ci=0.95):\n",
    "    bootstrapped_means = []\n",
    "    for _ in range(n_bootstrap):\n",
    "        sample = np.random.choice(data, size=len(data), replace=True)\n",
    "        bootstrapped_means.append(np.mean(sample))\n",
    "    lower_bound = np.percentile(bootstrapped_means, (1 - ci) / 2 * 100)\n",
    "    upper_bound = np.percentile(bootstrapped_means, (1 + ci) / 2 * 100)\n",
    "    return lower_bound, upper_bound"
   ],
   "metadata": {
    "collapsed": false,
    "ExecuteTime": {
     "end_time": "2024-05-29T05:26:17.728436Z",
     "start_time": "2024-05-29T05:26:17.715641Z"
    }
   },
   "id": "5b3b25b155cc7870",
   "outputs": [],
   "execution_count": 20
  },
  {
   "cell_type": "markdown",
   "id": "53a0ba0c-108c-43f5-8232-8b548c844b31",
   "metadata": {},
   "source": [
    "# For HyperParameterTuning"
   ]
  },
  {
   "cell_type": "markdown",
   "id": "dbe8fe89-e9e6-45f2-a2c0-e79a80e455ae",
   "metadata": {},
   "source": [
    "For every configuration that you test in the sweep, you will receive in the table the average, standard deviation, all the values obtained for the different seed values, and also the confidence interval within which the result is located at a confidence level of 95%.\n",
    "\n",
    "When epoch=\"best\" is defined, you can check in which epoch the best result is obtained. If epoch=5 is defined, you will receive the result obtained for epoch number 5.\n",
    "\n",
    "You can test multiple sweeps simultaneously by entering them into the list found in the first element of the function result_metric."
   ]
  },
  {
   "cell_type": "code",
   "id": "9dd9321f-5c94-4f0c-8052-b50bd8bd3f4e",
   "metadata": {
    "ExecuteTime": {
     "end_time": "2024-05-29T05:27:29.231419Z",
     "start_time": "2024-05-29T05:27:27.943336Z"
    }
   },
   "source": [
    "sweep_results = result_metric([\"t6eff5sl\"], \"LLMs\", drop_HPT=False, epoch=\"best\")\n",
    "sweep_results"
   ],
   "outputs": [
    {
     "name": "stdout",
     "output_type": "stream",
     "text": [
      "Total number of sweeps: 1\n",
      "Download sweep_id='t6eff5sl' data...\n"
     ]
    },
    {
     "name": "stderr",
     "output_type": "stream",
     "text": [
      "100%|██████████| 9/9 [00:00<00:00, 27021.29it/s]"
     ]
    },
    {
     "name": "stdout",
     "output_type": "stream",
     "text": [
      "['config_seed', 'config_basic_nature']\n"
     ]
    },
    {
     "name": "stderr",
     "output_type": "stream",
     "text": [
      "\n",
      "/var/folders/2z/8_s1frf91ml1xyr6_025bgk00000gn/T/ipykernel_7625/2749268688.py:14: DeprecationWarning: Converting `np.inexact` or `np.floating` to a dtype is deprecated. The current result is `float64` which is not strictly correct.\n",
      "  (c not in HPT_cols) and (c not in [metric, \"epoch\"]) and (df[c].dtype not in [np.number])]\n"
     ]
    },
    {
     "data": {
      "text/plain": [
       "          mean       std                                             values  \\\n",
       "LLMs                                                                          \n",
       "18    0.830135  0.001448  [0.8315151739333206, 0.8302621539443967, 0.828...   \n",
       "19    0.832460  0.001709  [0.8322588380631463, 0.8308611801313589, 0.834...   \n",
       "20    0.829555  0.001522  [0.8298332806344103, 0.8279128628691088, 0.830...   \n",
       "\n",
       "      epoch                                        CI  \n",
       "LLMs                                                   \n",
       "18        6  (0.8286277597003583, 0.8315151739333206)  \n",
       "19        4  (0.8308611801313589, 0.8342610048571851)  \n",
       "20       23  (0.8279128628691087, 0.8309191196473545)  "
      ],
      "text/html": [
       "<div>\n",
       "<style scoped>\n",
       "    .dataframe tbody tr th:only-of-type {\n",
       "        vertical-align: middle;\n",
       "    }\n",
       "\n",
       "    .dataframe tbody tr th {\n",
       "        vertical-align: top;\n",
       "    }\n",
       "\n",
       "    .dataframe thead th {\n",
       "        text-align: right;\n",
       "    }\n",
       "</style>\n",
       "<table border=\"1\" class=\"dataframe\">\n",
       "  <thead>\n",
       "    <tr style=\"text-align: right;\">\n",
       "      <th></th>\n",
       "      <th>mean</th>\n",
       "      <th>std</th>\n",
       "      <th>values</th>\n",
       "      <th>epoch</th>\n",
       "      <th>CI</th>\n",
       "    </tr>\n",
       "    <tr>\n",
       "      <th>LLMs</th>\n",
       "      <th></th>\n",
       "      <th></th>\n",
       "      <th></th>\n",
       "      <th></th>\n",
       "      <th></th>\n",
       "    </tr>\n",
       "  </thead>\n",
       "  <tbody>\n",
       "    <tr>\n",
       "      <th>18</th>\n",
       "      <td>0.830135</td>\n",
       "      <td>0.001448</td>\n",
       "      <td>[0.8315151739333206, 0.8302621539443967, 0.828...</td>\n",
       "      <td>6</td>\n",
       "      <td>(0.8286277597003583, 0.8315151739333206)</td>\n",
       "    </tr>\n",
       "    <tr>\n",
       "      <th>19</th>\n",
       "      <td>0.832460</td>\n",
       "      <td>0.001709</td>\n",
       "      <td>[0.8322588380631463, 0.8308611801313589, 0.834...</td>\n",
       "      <td>4</td>\n",
       "      <td>(0.8308611801313589, 0.8342610048571851)</td>\n",
       "    </tr>\n",
       "    <tr>\n",
       "      <th>20</th>\n",
       "      <td>0.829555</td>\n",
       "      <td>0.001522</td>\n",
       "      <td>[0.8298332806344103, 0.8279128628691088, 0.830...</td>\n",
       "      <td>23</td>\n",
       "      <td>(0.8279128628691087, 0.8309191196473545)</td>\n",
       "    </tr>\n",
       "  </tbody>\n",
       "</table>\n",
       "</div>"
      ]
     },
     "execution_count": 22,
     "metadata": {},
     "output_type": "execute_result"
    }
   ],
   "execution_count": 22
  },
  {
   "cell_type": "markdown",
   "id": "3b7cf7c5-c884-43e2-9129-47a507f95124",
   "metadata": {},
   "source": [
    "# Result for a specific epoch"
   ]
  },
  {
   "cell_type": "code",
   "id": "bfbdd8de-237f-4283-89b4-608c00121df7",
   "metadata": {
    "ExecuteTime": {
     "end_time": "2024-05-26T10:09:12.625495Z",
     "start_time": "2024-05-26T10:09:12.625432Z"
    }
   },
   "source": [
    "# sweep_results = result_metric([\"xewf30hs\"], \"LLMs\", drop_HPT=False, epoch=10)\n",
    "# sweep_results"
   ],
   "outputs": [],
   "execution_count": null
  },
  {
   "cell_type": "code",
   "id": "a198a156-3e53-4ef4-9525-47e8671c7844",
   "metadata": {},
   "source": [],
   "outputs": [],
   "execution_count": null
  },
  {
   "cell_type": "code",
   "source": [
    "# def result_metric(sweeps, group_name, drop_list=[0], drop_HPT=False, metric=BASE_METRIC, epoch=\"best\"):\n",
    "#     df = api.get_sweeps_results(sweeps, metric=metric) \n",
    "# \n",
    "#     config_cols = [c for c in df.columns if \"config_\" in c and c!=\"config_wandb_run_id\" and c!=\"config_online_simulation_size\"]\n",
    "#     HPT_cols = [col for col in config_cols if df[col].nunique() > 1]\n",
    "#     print(HPT_cols)\n",
    "#     if drop_HPT:\n",
    "#         df=df.drop([c for c in HPT_cols if not c in [\"config_LLM_SIM_SIZE\", \"config_seed\"]], axis=1)\n",
    "#         HPT_cols = [\"config_LLM_SIM_SIZE\", \"config_seed\"]\n",
    "#         \n",
    "#     grouped = df.groupby([c for c in HPT_cols if c != \"config_seed\"])\n",
    "#     mean_df = grouped.mean()\n",
    "#     std_df = grouped.std()\n",
    "#     if epoch==\"best\":\n",
    "#         best_col = mean_df[[c for c in mean_df.columns if (metric in c and metric[-4:] == c.split(\"_epoch\")[0][-4:])]].idxmax(axis=1)\n",
    "#     else:\n",
    "#         best_col = mean_df[[c for c in mean_df.columns if f\"{metric}_epoch{epoch}\" in c]].idxmax(axis=1)\n",
    "#     \n",
    "#     result = grouped.apply(lambda x: x[best_col.loc[x.name]].values)\n",
    "#     means = grouped.apply(lambda x: x[best_col.loc[x.name]].mean())\n",
    "#     stds = grouped.apply(lambda x: x[best_col.loc[x.name]].std())\n",
    "# \n",
    "# \n",
    "#     df_cols = {'mean': means, 'std': stds, 'values': result.values}\n",
    "#     if epoch == \"best\": df_cols['epoch'] = best_col.apply(lambda x: int(x.split(\"epoch\")[1]) if \"epoch\" in x else \"last\")\n",
    "# \n",
    "#     df_cols['CI'] = result.apply(lambda x: bootstrap_ci(x))\n",
    "# \n",
    "#     summary_df = pd.DataFrame(df_cols, index=best_col.index)\n",
    "#     for d in drop_list:\n",
    "#         if d in summary_df.index:\n",
    "#             summary_df=summary_df.drop(d)\n",
    "#     if len(summary_df.index.names) == 1:\n",
    "#         return summary_df.rename_axis(group_name)\n",
    "#     else:\n",
    "#         return summary_df\n",
    "# \n",
    "# def bootstrap_ci(data, n_bootstrap=1000, ci=0.95):\n",
    "#     bootstrapped_means = []\n",
    "#     for _ in range(n_bootstrap):\n",
    "#         sample = np.random.choice(data, size=len(data), replace=True)\n",
    "#         bootstrapped_means.append(np.mean(sample))\n",
    "#     lower_bound = np.percentile(bootstrapped_means, (1 - ci) / 2 * 100)\n",
    "#     upper_bound = np.percentile(bootstrapped_means, (1 + ci) / 2 * 100)\n",
    "#     return lower_bound, upper_bound\n"
   ],
   "metadata": {},
   "id": "7be66a73-767b-4b9b-ab1f-9310d9d21fa2",
   "outputs": [],
   "execution_count": null
  }
 ],
 "metadata": {
  "kernelspec": {
   "display_name": "Python 3",
   "language": "python",
   "name": "python3"
  },
  "language_info": {
   "codemirror_mode": {
    "name": "ipython",
    "version": 3
   },
   "file_extension": ".py",
   "mimetype": "text/x-python",
   "name": "python",
   "nbconvert_exporter": "python",
   "pygments_lexer": "ipython3",
   "version": "3.8.8"
  }
 },
 "nbformat": 4,
 "nbformat_minor": 5
}
